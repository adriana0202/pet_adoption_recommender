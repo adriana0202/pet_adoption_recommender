{
 "cells": [
  {
   "cell_type": "code",
   "execution_count": 2,
   "metadata": {},
   "outputs": [],
   "source": [
    "import pandas as pd"
   ]
  },
  {
   "cell_type": "code",
   "execution_count": 3,
   "metadata": {},
   "outputs": [],
   "source": [
    "df = pd.read_csv('/Users/adrianabrazon/Documents/IronHack/final_project/Animal_Shelter_Intake_and_Outcome_20240413.csv')"
   ]
  },
  {
   "cell_type": "code",
   "execution_count": 4,
   "metadata": {},
   "outputs": [
    {
     "data": {
      "text/html": [
       "<div>\n",
       "<style scoped>\n",
       "    .dataframe tbody tr th:only-of-type {\n",
       "        vertical-align: middle;\n",
       "    }\n",
       "\n",
       "    .dataframe tbody tr th {\n",
       "        vertical-align: top;\n",
       "    }\n",
       "\n",
       "    .dataframe thead th {\n",
       "        text-align: right;\n",
       "    }\n",
       "</style>\n",
       "<table border=\"1\" class=\"dataframe\">\n",
       "  <thead>\n",
       "    <tr style=\"text-align: right;\">\n",
       "      <th></th>\n",
       "      <th>Days in Shelter</th>\n",
       "      <th>Outcome Zip Code</th>\n",
       "      <th>Count</th>\n",
       "    </tr>\n",
       "  </thead>\n",
       "  <tbody>\n",
       "    <tr>\n",
       "      <th>count</th>\n",
       "      <td>27550.000000</td>\n",
       "      <td>23603.000000</td>\n",
       "      <td>27550.000000</td>\n",
       "    </tr>\n",
       "    <tr>\n",
       "      <th>mean</th>\n",
       "      <td>19.269474</td>\n",
       "      <td>95013.451087</td>\n",
       "      <td>0.994265</td>\n",
       "    </tr>\n",
       "    <tr>\n",
       "      <th>std</th>\n",
       "      <td>36.717492</td>\n",
       "      <td>3804.087287</td>\n",
       "      <td>0.075514</td>\n",
       "    </tr>\n",
       "    <tr>\n",
       "      <th>min</th>\n",
       "      <td>0.000000</td>\n",
       "      <td>1922.000000</td>\n",
       "      <td>0.000000</td>\n",
       "    </tr>\n",
       "    <tr>\n",
       "      <th>25%</th>\n",
       "      <td>1.000000</td>\n",
       "      <td>95401.000000</td>\n",
       "      <td>1.000000</td>\n",
       "    </tr>\n",
       "    <tr>\n",
       "      <th>50%</th>\n",
       "      <td>9.000000</td>\n",
       "      <td>95404.000000</td>\n",
       "      <td>1.000000</td>\n",
       "    </tr>\n",
       "    <tr>\n",
       "      <th>75%</th>\n",
       "      <td>24.000000</td>\n",
       "      <td>95425.000000</td>\n",
       "      <td>1.000000</td>\n",
       "    </tr>\n",
       "    <tr>\n",
       "      <th>max</th>\n",
       "      <td>1239.000000</td>\n",
       "      <td>99701.000000</td>\n",
       "      <td>1.000000</td>\n",
       "    </tr>\n",
       "  </tbody>\n",
       "</table>\n",
       "</div>"
      ],
      "text/plain": [
       "       Days in Shelter  Outcome Zip Code         Count\n",
       "count     27550.000000      23603.000000  27550.000000\n",
       "mean         19.269474      95013.451087      0.994265\n",
       "std          36.717492       3804.087287      0.075514\n",
       "min           0.000000       1922.000000      0.000000\n",
       "25%           1.000000      95401.000000      1.000000\n",
       "50%           9.000000      95404.000000      1.000000\n",
       "75%          24.000000      95425.000000      1.000000\n",
       "max        1239.000000      99701.000000      1.000000"
      ]
     },
     "execution_count": 4,
     "metadata": {},
     "output_type": "execute_result"
    }
   ],
   "source": [
    "df.describe()"
   ]
  },
  {
   "cell_type": "code",
   "execution_count": 5,
   "metadata": {},
   "outputs": [
    {
     "data": {
      "text/plain": [
       "Index(['Name', 'Type', 'Breed', 'Color', 'Sex', 'Size', 'Date Of Birth',\n",
       "       'Impound Number', 'Kennel Number', 'Animal ID', 'Intake Date',\n",
       "       'Outcome Date', 'Days in Shelter', 'Intake Type', 'Intake Subtype',\n",
       "       'Outcome Type', 'Outcome Subtype', 'Intake Condition',\n",
       "       'Outcome Condition', 'Intake Jurisdiction', 'Outcome Jurisdiction',\n",
       "       'Outcome Zip Code', 'Location', 'Count'],\n",
       "      dtype='object')"
      ]
     },
     "execution_count": 5,
     "metadata": {},
     "output_type": "execute_result"
    }
   ],
   "source": [
    "df.columns"
   ]
  },
  {
   "cell_type": "code",
   "execution_count": 16,
   "metadata": {},
   "outputs": [],
   "source": [
    "def clean_columns(df):\n",
    "    df.columns = df.columns.str.lower().str.strip().str.replace(\" \", \"_\")\n",
    "    return df"
   ]
  },
  {
   "cell_type": "code",
   "execution_count": 17,
   "metadata": {},
   "outputs": [
    {
     "data": {
      "text/plain": [
       "Index(['name', 'type', 'breed', 'color', 'sex', 'size', 'date_of_birth',\n",
       "       'impound_number', 'kennel_number', 'animal_id', 'intake_date',\n",
       "       'outcome_date', 'days_in_shelter', 'intake_type', 'intake_subtype',\n",
       "       'outcome_type', 'outcome_subtype', 'intake_condition',\n",
       "       'outcome_condition', 'intake_jurisdiction', 'outcome_jurisdiction',\n",
       "       'outcome_zip_code', 'location', 'count'],\n",
       "      dtype='object')"
      ]
     },
     "execution_count": 17,
     "metadata": {},
     "output_type": "execute_result"
    }
   ],
   "source": [
    "df = clean_columns(df)\n",
    "df.columns"
   ]
  },
  {
   "cell_type": "code",
   "execution_count": 18,
   "metadata": {},
   "outputs": [
    {
     "data": {
      "text/plain": [
       "name                    7222\n",
       "type                       0\n",
       "breed                      0\n",
       "color                      0\n",
       "sex                        0\n",
       "size                      36\n",
       "date_of_birth           6786\n",
       "impound_number             0\n",
       "kennel_number             10\n",
       "animal_id                  0\n",
       "intake_date                0\n",
       "outcome_date             185\n",
       "days_in_shelter            0\n",
       "intake_type                0\n",
       "intake_subtype             0\n",
       "outcome_type             191\n",
       "outcome_subtype          522\n",
       "intake_condition           0\n",
       "outcome_condition        545\n",
       "intake_jurisdiction        0\n",
       "outcome_jurisdiction    3917\n",
       "outcome_zip_code        3947\n",
       "location                3947\n",
       "count                      0\n",
       "dtype: int64"
      ]
     },
     "execution_count": 18,
     "metadata": {},
     "output_type": "execute_result"
    }
   ],
   "source": [
    "df.isna().sum()"
   ]
  },
  {
   "cell_type": "code",
   "execution_count": 24,
   "metadata": {},
   "outputs": [],
   "source": [
    "pd.set_option('display.max_columns', 500)\n",
    "\n",
    "numeric_columns = df.select_dtypes(include='number')\n",
    "object_columns = df.select_dtypes(include='object')"
   ]
  },
  {
   "cell_type": "code",
   "execution_count": 29,
   "metadata": {},
   "outputs": [
    {
     "data": {
      "text/html": [
       "<div>\n",
       "<style scoped>\n",
       "    .dataframe tbody tr th:only-of-type {\n",
       "        vertical-align: middle;\n",
       "    }\n",
       "\n",
       "    .dataframe tbody tr th {\n",
       "        vertical-align: top;\n",
       "    }\n",
       "\n",
       "    .dataframe thead th {\n",
       "        text-align: right;\n",
       "    }\n",
       "</style>\n",
       "<table border=\"1\" class=\"dataframe\">\n",
       "  <thead>\n",
       "    <tr style=\"text-align: right;\">\n",
       "      <th></th>\n",
       "      <th>days_in_shelter</th>\n",
       "      <th>outcome_zip_code</th>\n",
       "      <th>count</th>\n",
       "    </tr>\n",
       "  </thead>\n",
       "  <tbody>\n",
       "    <tr>\n",
       "      <th>count</th>\n",
       "      <td>27550.000000</td>\n",
       "      <td>23603.000000</td>\n",
       "      <td>27550.000000</td>\n",
       "    </tr>\n",
       "    <tr>\n",
       "      <th>mean</th>\n",
       "      <td>19.269474</td>\n",
       "      <td>95013.451087</td>\n",
       "      <td>0.994265</td>\n",
       "    </tr>\n",
       "    <tr>\n",
       "      <th>std</th>\n",
       "      <td>36.717492</td>\n",
       "      <td>3804.087287</td>\n",
       "      <td>0.075514</td>\n",
       "    </tr>\n",
       "    <tr>\n",
       "      <th>min</th>\n",
       "      <td>0.000000</td>\n",
       "      <td>1922.000000</td>\n",
       "      <td>0.000000</td>\n",
       "    </tr>\n",
       "    <tr>\n",
       "      <th>25%</th>\n",
       "      <td>1.000000</td>\n",
       "      <td>95401.000000</td>\n",
       "      <td>1.000000</td>\n",
       "    </tr>\n",
       "    <tr>\n",
       "      <th>50%</th>\n",
       "      <td>9.000000</td>\n",
       "      <td>95404.000000</td>\n",
       "      <td>1.000000</td>\n",
       "    </tr>\n",
       "    <tr>\n",
       "      <th>75%</th>\n",
       "      <td>24.000000</td>\n",
       "      <td>95425.000000</td>\n",
       "      <td>1.000000</td>\n",
       "    </tr>\n",
       "    <tr>\n",
       "      <th>max</th>\n",
       "      <td>1239.000000</td>\n",
       "      <td>99701.000000</td>\n",
       "      <td>1.000000</td>\n",
       "    </tr>\n",
       "  </tbody>\n",
       "</table>\n",
       "</div>"
      ],
      "text/plain": [
       "       days_in_shelter  outcome_zip_code         count\n",
       "count     27550.000000      23603.000000  27550.000000\n",
       "mean         19.269474      95013.451087      0.994265\n",
       "std          36.717492       3804.087287      0.075514\n",
       "min           0.000000       1922.000000      0.000000\n",
       "25%           1.000000      95401.000000      1.000000\n",
       "50%           9.000000      95404.000000      1.000000\n",
       "75%          24.000000      95425.000000      1.000000\n",
       "max        1239.000000      99701.000000      1.000000"
      ]
     },
     "execution_count": 29,
     "metadata": {},
     "output_type": "execute_result"
    }
   ],
   "source": [
    "numeric_columns.describe()"
   ]
  },
  {
   "cell_type": "code",
   "execution_count": 31,
   "metadata": {},
   "outputs": [
    {
     "data": {
      "text/html": [
       "<div>\n",
       "<style scoped>\n",
       "    .dataframe tbody tr th:only-of-type {\n",
       "        vertical-align: middle;\n",
       "    }\n",
       "\n",
       "    .dataframe tbody tr th {\n",
       "        vertical-align: top;\n",
       "    }\n",
       "\n",
       "    .dataframe thead th {\n",
       "        text-align: right;\n",
       "    }\n",
       "</style>\n",
       "<table border=\"1\" class=\"dataframe\">\n",
       "  <thead>\n",
       "    <tr style=\"text-align: right;\">\n",
       "      <th></th>\n",
       "      <th>name</th>\n",
       "      <th>type</th>\n",
       "      <th>breed</th>\n",
       "      <th>color</th>\n",
       "      <th>sex</th>\n",
       "      <th>size</th>\n",
       "      <th>date_of_birth</th>\n",
       "      <th>impound_number</th>\n",
       "      <th>kennel_number</th>\n",
       "      <th>animal_id</th>\n",
       "      <th>intake_date</th>\n",
       "      <th>outcome_date</th>\n",
       "      <th>intake_type</th>\n",
       "      <th>intake_subtype</th>\n",
       "      <th>outcome_type</th>\n",
       "      <th>outcome_subtype</th>\n",
       "      <th>intake_condition</th>\n",
       "      <th>outcome_condition</th>\n",
       "      <th>intake_jurisdiction</th>\n",
       "      <th>outcome_jurisdiction</th>\n",
       "      <th>location</th>\n",
       "    </tr>\n",
       "  </thead>\n",
       "  <tbody>\n",
       "    <tr>\n",
       "      <th>count</th>\n",
       "      <td>20328</td>\n",
       "      <td>27550</td>\n",
       "      <td>27550</td>\n",
       "      <td>27550</td>\n",
       "      <td>27550</td>\n",
       "      <td>27514</td>\n",
       "      <td>20764</td>\n",
       "      <td>27550</td>\n",
       "      <td>27540</td>\n",
       "      <td>27550</td>\n",
       "      <td>27550</td>\n",
       "      <td>27365</td>\n",
       "      <td>27550</td>\n",
       "      <td>27550</td>\n",
       "      <td>27359</td>\n",
       "      <td>27028</td>\n",
       "      <td>27550</td>\n",
       "      <td>27005</td>\n",
       "      <td>27550</td>\n",
       "      <td>23633</td>\n",
       "      <td>23603</td>\n",
       "    </tr>\n",
       "    <tr>\n",
       "      <th>unique</th>\n",
       "      <td>7246</td>\n",
       "      <td>3</td>\n",
       "      <td>1074</td>\n",
       "      <td>352</td>\n",
       "      <td>5</td>\n",
       "      <td>7</td>\n",
       "      <td>6148</td>\n",
       "      <td>27550</td>\n",
       "      <td>163</td>\n",
       "      <td>24789</td>\n",
       "      <td>3563</td>\n",
       "      <td>3156</td>\n",
       "      <td>7</td>\n",
       "      <td>33</td>\n",
       "      <td>9</td>\n",
       "      <td>243</td>\n",
       "      <td>5</td>\n",
       "      <td>6</td>\n",
       "      <td>13</td>\n",
       "      <td>12</td>\n",
       "      <td>734</td>\n",
       "    </tr>\n",
       "    <tr>\n",
       "      <th>top</th>\n",
       "      <td>BUDDY</td>\n",
       "      <td>DOG</td>\n",
       "      <td>DOMESTIC SH</td>\n",
       "      <td>BLACK/WHITE</td>\n",
       "      <td>Neutered</td>\n",
       "      <td>SMALL</td>\n",
       "      <td>05/01/2023</td>\n",
       "      <td>K24-047892</td>\n",
       "      <td>LOBBY</td>\n",
       "      <td>A322298</td>\n",
       "      <td>05/15/2023</td>\n",
       "      <td>10/26/2019</td>\n",
       "      <td>STRAY</td>\n",
       "      <td>FIELD</td>\n",
       "      <td>RETURN TO OWNER</td>\n",
       "      <td>WALKIN</td>\n",
       "      <td>HEALTHY</td>\n",
       "      <td>HEALTHY</td>\n",
       "      <td>SANTA ROSA</td>\n",
       "      <td>SANTA ROSA</td>\n",
       "      <td>95407(38.4127094, -122.7412153)</td>\n",
       "    </tr>\n",
       "    <tr>\n",
       "      <th>freq</th>\n",
       "      <td>152</td>\n",
       "      <td>15537</td>\n",
       "      <td>7547</td>\n",
       "      <td>3103</td>\n",
       "      <td>8910</td>\n",
       "      <td>10715</td>\n",
       "      <td>25</td>\n",
       "      <td>1</td>\n",
       "      <td>1805</td>\n",
       "      <td>19</td>\n",
       "      <td>70</td>\n",
       "      <td>69</td>\n",
       "      <td>20066</td>\n",
       "      <td>10768</td>\n",
       "      <td>9200</td>\n",
       "      <td>3717</td>\n",
       "      <td>12884</td>\n",
       "      <td>16493</td>\n",
       "      <td>13326</td>\n",
       "      <td>8723</td>\n",
       "      <td>3791</td>\n",
       "    </tr>\n",
       "  </tbody>\n",
       "</table>\n",
       "</div>"
      ],
      "text/plain": [
       "         name   type        breed        color       sex   size date_of_birth  \\\n",
       "count   20328  27550        27550        27550     27550  27514         20764   \n",
       "unique   7246      3         1074          352         5      7          6148   \n",
       "top     BUDDY    DOG  DOMESTIC SH  BLACK/WHITE  Neutered  SMALL    05/01/2023   \n",
       "freq      152  15537         7547         3103      8910  10715            25   \n",
       "\n",
       "       impound_number kennel_number animal_id intake_date outcome_date  \\\n",
       "count           27550         27540     27550       27550        27365   \n",
       "unique          27550           163     24789        3563         3156   \n",
       "top        K24-047892         LOBBY   A322298  05/15/2023   10/26/2019   \n",
       "freq                1          1805        19          70           69   \n",
       "\n",
       "       intake_type intake_subtype     outcome_type outcome_subtype  \\\n",
       "count        27550          27550            27359           27028   \n",
       "unique           7             33                9             243   \n",
       "top          STRAY          FIELD  RETURN TO OWNER          WALKIN   \n",
       "freq         20066          10768             9200            3717   \n",
       "\n",
       "       intake_condition outcome_condition intake_jurisdiction  \\\n",
       "count             27550             27005               27550   \n",
       "unique                5                 6                  13   \n",
       "top             HEALTHY           HEALTHY          SANTA ROSA   \n",
       "freq              12884             16493               13326   \n",
       "\n",
       "       outcome_jurisdiction                         location  \n",
       "count                 23633                            23603  \n",
       "unique                   12                              734  \n",
       "top              SANTA ROSA  95407(38.4127094, -122.7412153)  \n",
       "freq                   8723                             3791  "
      ]
     },
     "execution_count": 31,
     "metadata": {},
     "output_type": "execute_result"
    }
   ],
   "source": [
    "object_columns.describe()"
   ]
  },
  {
   "cell_type": "code",
   "execution_count": 20,
   "metadata": {},
   "outputs": [
    {
     "data": {
      "text/plain": [
       "0"
      ]
     },
     "execution_count": 20,
     "metadata": {},
     "output_type": "execute_result"
    }
   ],
   "source": [
    "df.duplicated().sum()"
   ]
  },
  {
   "cell_type": "code",
   "execution_count": null,
   "metadata": {},
   "outputs": [],
   "source": []
  }
 ],
 "metadata": {
  "kernelspec": {
   "display_name": ".venv",
   "language": "python",
   "name": "python3"
  },
  "language_info": {
   "codemirror_mode": {
    "name": "ipython",
    "version": 3
   },
   "file_extension": ".py",
   "mimetype": "text/x-python",
   "name": "python",
   "nbconvert_exporter": "python",
   "pygments_lexer": "ipython3",
   "version": "3.8.2"
  }
 },
 "nbformat": 4,
 "nbformat_minor": 2
}
