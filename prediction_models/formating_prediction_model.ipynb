{
 "cells": [
  {
   "cell_type": "code",
   "execution_count": 2,
   "metadata": {},
   "outputs": [],
   "source": [
    "from time import sleep, time\n",
    "from random import randrange\n",
    "import numpy as np\n",
    "import pandas as pd\n",
    "import requests"
   ]
  },
  {
   "cell_type": "code",
   "execution_count": 12,
   "metadata": {},
   "outputs": [],
   "source": [
    "images_file = pd.read_csv('/Users/adrianabrazon/Documents/IronHack/final_project/dog_files/pets_for_adoption.csv')"
   ]
  },
  {
   "cell_type": "code",
   "execution_count": 19,
   "metadata": {},
   "outputs": [],
   "source": [
    "df = images_file"
   ]
  },
  {
   "cell_type": "code",
   "execution_count": 20,
   "metadata": {},
   "outputs": [
    {
     "data": {
      "text/plain": [
       "'https://cdn.rescuegroups.org/4319/pictures/animals/19921/19921455/96951790.jpg'"
      ]
     },
     "execution_count": 20,
     "metadata": {},
     "output_type": "execute_result"
    }
   ],
   "source": [
    "df['doggo_pic_url'][0]"
   ]
  },
  {
   "cell_type": "code",
   "execution_count": 37,
   "metadata": {},
   "outputs": [
    {
     "name": "stdout",
     "output_type": "stream",
     "text": [
      "Sleeping for : 2.92\n"
     ]
    },
    {
     "name": "stdout",
     "output_type": "stream",
     "text": [
      "Sleep Over, time since start of sleep:  2.9277122020721436\n"
     ]
    }
   ],
   "source": [
    "randy = randrange(200, 500)/100\n",
    "current_time = time()\n",
    "print(\"Sleeping for :\", randy)\n",
    "sleep(randy)\n",
    "print(\"Sleep Over, time since start of sleep: \", time()-current_time)"
   ]
  },
  {
   "cell_type": "code",
   "execution_count": 54,
   "metadata": {},
   "outputs": [
    {
     "name": "stdout",
     "output_type": "stream",
     "text": [
      "240  pictures gathered\n",
      "250  pictures gathered\n",
      "260  pictures gathered\n",
      "270  pictures gathered\n",
      "280  pictures gathered\n",
      "290  pictures gathered\n",
      "300  pictures gathered\n",
      "310  pictures gathered\n",
      "320  pictures gathered\n",
      "330  pictures gathered\n",
      "340  pictures gathered\n",
      "350  pictures gathered\n",
      "360  pictures gathered\n",
      "370  pictures gathered\n",
      "380  pictures gathered\n",
      "400  pictures gathered\n",
      "410  pictures gathered\n",
      "420  pictures gathered\n",
      "430  pictures gathered\n",
      "440  pictures gathered\n",
      "450  pictures gathered\n",
      "460  pictures gathered\n",
      "470  pictures gathered\n",
      "480  pictures gathered\n",
      "490  pictures gathered\n",
      "500  pictures gathered\n",
      "510  pictures gathered\n",
      "520  pictures gathered\n",
      "530  pictures gathered\n",
      "540  pictures gathered\n",
      "550  pictures gathered\n",
      "560  pictures gathered\n",
      "570  pictures gathered\n",
      "580  pictures gathered\n",
      "590  pictures gathered\n",
      "600  pictures gathered\n",
      "610  pictures gathered\n",
      "620  pictures gathered\n",
      "630  pictures gathered\n",
      "640  pictures gathered\n",
      "650  pictures gathered\n",
      "660  pictures gathered\n",
      "670  pictures gathered\n",
      "680  pictures gathered\n",
      "690  pictures gathered\n",
      "700  pictures gathered\n",
      "710  pictures gathered\n",
      "720  pictures gathered\n",
      "730  pictures gathered\n",
      "740  pictures gathered\n",
      "750  pictures gathered\n",
      "760  pictures gathered\n",
      "770  pictures gathered\n",
      "780  pictures gathered\n",
      "790  pictures gathered\n",
      "800  pictures gathered\n",
      "810  pictures gathered\n",
      "820  pictures gathered\n",
      "830  pictures gathered\n",
      "840  pictures gathered\n",
      "850  pictures gathered\n",
      "860  pictures gathered\n",
      "870  pictures gathered\n",
      "880  pictures gathered\n",
      "890  pictures gathered\n",
      "900  pictures gathered\n",
      "910  pictures gathered\n",
      "930  pictures gathered\n",
      "940  pictures gathered\n",
      "950  pictures gathered\n",
      "960  pictures gathered\n",
      "970  pictures gathered\n",
      "980  pictures gathered\n",
      "990  pictures gathered\n",
      "1000  pictures gathered\n"
     ]
    }
   ],
   "source": [
    "### DO NO RUN THIS CELL ##\n",
    "\n",
    "# retreive the pictures in jpg format to store them in the 'images' folder, for our folder:  \n",
    "\n",
    "for i in range(236,1001):\n",
    "    if df['doggo_pic_url'][i] != 'no photo':\n",
    "        file_name = '../images/'+ df['doggo_pic_url'][i].split('/')[-2] + '.jpg'\n",
    "        img_data = requests.get(df['doggo_pic_url'][i]).content\n",
    "        randy = randrange(200, 500)/100\n",
    "        current_time = time()\n",
    "        # print(\"Sleeping for :\", randy)\n",
    "        sleep(randy)\n",
    "        if i % 10 == 0:\n",
    "            print(i, \" pictures gathered\")\n",
    "        with open(file_name, 'wb') as handler:\n",
    "            handler.write(img_data)"
   ]
  },
  {
   "cell_type": "code",
   "execution_count": 43,
   "metadata": {},
   "outputs": [
    {
     "data": {
      "text/html": [
       "<div>\n",
       "<style scoped>\n",
       "    .dataframe tbody tr th:only-of-type {\n",
       "        vertical-align: middle;\n",
       "    }\n",
       "\n",
       "    .dataframe tbody tr th {\n",
       "        vertical-align: top;\n",
       "    }\n",
       "\n",
       "    .dataframe thead th {\n",
       "        text-align: right;\n",
       "    }\n",
       "</style>\n",
       "<table border=\"1\" class=\"dataframe\">\n",
       "  <thead>\n",
       "    <tr style=\"text-align: right;\">\n",
       "      <th></th>\n",
       "      <th>doggo_name</th>\n",
       "      <th>doggo_pic_url</th>\n",
       "      <th>doggo_url</th>\n",
       "      <th>animal_id</th>\n",
       "    </tr>\n",
       "  </thead>\n",
       "  <tbody>\n",
       "    <tr>\n",
       "      <th>0</th>\n",
       "      <td>Keisha</td>\n",
       "      <td>https://cdn.rescuegroups.org/4319/pictures/ani...</td>\n",
       "      <td>https://www.aspca.org/adopt-pet/adoptable-dogs...</td>\n",
       "      <td>19921455</td>\n",
       "    </tr>\n",
       "    <tr>\n",
       "      <th>1</th>\n",
       "      <td>Mayflower</td>\n",
       "      <td>https://cdn.rescuegroups.org/4319/pictures/ani...</td>\n",
       "      <td>https://www.aspca.org/adopt-pet/adoptable-dogs...</td>\n",
       "      <td>20026683</td>\n",
       "    </tr>\n",
       "    <tr>\n",
       "      <th>2</th>\n",
       "      <td>George</td>\n",
       "      <td>https://cdn.rescuegroups.org/4319/pictures/ani...</td>\n",
       "      <td>https://www.aspca.org/adopt-pet/adoptable-dogs...</td>\n",
       "      <td>19628021</td>\n",
       "    </tr>\n",
       "    <tr>\n",
       "      <th>3</th>\n",
       "      <td>Billie</td>\n",
       "      <td>https://cdn.rescuegroups.org/4319/pictures/ani...</td>\n",
       "      <td>https://www.aspca.org/adopt-pet/adoptable-dogs...</td>\n",
       "      <td>20109890</td>\n",
       "    </tr>\n",
       "    <tr>\n",
       "      <th>4</th>\n",
       "      <td>Henry</td>\n",
       "      <td>https://cdn.rescuegroups.org/4319/pictures/ani...</td>\n",
       "      <td>https://www.aspca.org/adopt-pet/adoptable-dogs...</td>\n",
       "      <td>20109891</td>\n",
       "    </tr>\n",
       "  </tbody>\n",
       "</table>\n",
       "</div>"
      ],
      "text/plain": [
       "  doggo_name                                      doggo_pic_url  \\\n",
       "0     Keisha  https://cdn.rescuegroups.org/4319/pictures/ani...   \n",
       "1  Mayflower  https://cdn.rescuegroups.org/4319/pictures/ani...   \n",
       "2     George  https://cdn.rescuegroups.org/4319/pictures/ani...   \n",
       "3     Billie  https://cdn.rescuegroups.org/4319/pictures/ani...   \n",
       "4      Henry  https://cdn.rescuegroups.org/4319/pictures/ani...   \n",
       "\n",
       "                                           doggo_url  animal_id  \n",
       "0  https://www.aspca.org/adopt-pet/adoptable-dogs...   19921455  \n",
       "1  https://www.aspca.org/adopt-pet/adoptable-dogs...   20026683  \n",
       "2  https://www.aspca.org/adopt-pet/adoptable-dogs...   19628021  \n",
       "3  https://www.aspca.org/adopt-pet/adoptable-dogs...   20109890  \n",
       "4  https://www.aspca.org/adopt-pet/adoptable-dogs...   20109891  "
      ]
     },
     "execution_count": 43,
     "metadata": {},
     "output_type": "execute_result"
    }
   ],
   "source": [
    "dataset = pd.read_csv('/Users/adrianabrazon/Documents/IronHack/final_project/dog_files/pets_for_adoption.csv')\n",
    "dataset.head()"
   ]
  },
  {
   "cell_type": "code",
   "execution_count": null,
   "metadata": {},
   "outputs": [],
   "source": []
  },
  {
   "cell_type": "code",
   "execution_count": 53,
   "metadata": {},
   "outputs": [
    {
     "name": "stdout",
     "output_type": "stream",
     "text": [
      "Index: 220 20399301\n",
      "Index: 221 20402883\n",
      "Index: 222 20402887\n",
      "Index: 223 20405069\n",
      "Index: 224 20405086\n",
      "Index: 225 19885779\n",
      "Index: 226 19897741\n",
      "Index: 227 19897789\n",
      "Index: 228 20041821\n",
      "Index: 229 20041833\n",
      "Index: 230 20045683\n",
      "Index: 231 20045716\n",
      "Index: 232 20045719\n",
      "Index: 233 20045721\n",
      "Index: 234 20290762\n",
      "Index: 235 19495741\n",
      "no photo\n",
      "Index: 237 20382301\n",
      "Index: 238 20382311\n",
      "Index: 239 20382369\n"
     ]
    }
   ],
   "source": [
    "#testing to fine tune the loop that is storing the images in the 'images' file\n",
    "for i in range (220,240): \n",
    "    if df['doggo_pic_url'][i] != 'no photo':\n",
    "        print('Index:', i, df['doggo_pic_url'][i].split('/')[-2])\n",
    "    else: \n",
    "        print('no photo')"
   ]
  },
  {
   "cell_type": "code",
   "execution_count": null,
   "metadata": {},
   "outputs": [],
   "source": [
    "import pandas as pd\n",
    "import numpy as np\n",
    "import tensorflow as tf\n",
    "from tensorflow.keras.applications import VGG16\n",
    "from tensorflow.keras.applications.vgg16 import preprocess_input\n",
    "from tensorflow.keras.preprocessing import image\n",
    "\n",
    "# Load DataFrame containing dog information\n",
    "dog_df = pd.read_csv('dog_data.csv')\n",
    "\n",
    "# Load pretrained VGG16 model\n",
    "vgg_model = VGG16(weights='imagenet', include_top=False)\n",
    "\n",
    "def preprocess_image(img_path):\n",
    "    img = image.load_img(img_path, target_size=(224, 224))\n",
    "    img_array = image.img_to_array(img)\n",
    "    img_array = np.expand_dims(img_array, axis=0)\n",
    "    img_array = preprocess_input(img_array)\n",
    "    return img_array\n",
    "\n",
    "def find_matches(input_img_features):\n",
    "    # Compare input image features with features in the dataset\n",
    "    # You can use different similarity metrics like cosine similarity or Euclidean distance\n",
    "    # Example: Calculate cosine similarity\n",
    "    similarities = np.dot(input_img_features, dog_df['features'].values.T) / (np.linalg.norm(input_img_features) * np.linalg.norm(dog_df['features'].values, axis=1))\n",
    "    matched_indices = np.argsort(similarities)[::-1]  # Sort indices by similarity score\n",
    "    return matched_indices\n",
    "\n",
    "def recommend_top_5_matches(matched_indices):\n",
    "    top_5_matches = dog_df.iloc[matched_indices[:5]]\n",
    "    return top_5_matches\n",
    "\n",
    "# Example usage\n",
    "input_img_path = 'user_input_image.jpg'\n",
    "input_img_features = vgg_model.predict(preprocess_image(input_img_path))\n",
    "matched_indices = find_matches(input_img_features)\n",
    "top_5_recommendations = recommend_top_5_matches(matched_indices)\n",
    "print(top_5_recommendations[['dog_name', 'picture_url', 'Id', 'page_url']])"
   ]
  }
 ],
 "metadata": {
  "kernelspec": {
   "display_name": ".venv",
   "language": "python",
   "name": "python3"
  },
  "language_info": {
   "codemirror_mode": {
    "name": "ipython",
    "version": 3
   },
   "file_extension": ".py",
   "mimetype": "text/x-python",
   "name": "python",
   "nbconvert_exporter": "python",
   "pygments_lexer": "ipython3",
   "version": "3.8.2"
  }
 },
 "nbformat": 4,
 "nbformat_minor": 2
}
