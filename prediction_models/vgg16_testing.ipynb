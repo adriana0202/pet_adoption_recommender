{
 "cells": [
  {
   "cell_type": "code",
   "execution_count": 13,
   "metadata": {},
   "outputs": [],
   "source": [
    "import pickle\n",
    "import numpy as np\n",
    "from PIL import Image\n",
    "from tensorflow.keras.preprocessing.image import img_to_array, load_img\n",
    "from tensorflow.keras.applications.resnet50 import preprocess_input as vgg16_preprocess_input\n",
    "from sklearn.metrics.pairwise import cosine_similarity\n",
    "from keras.applications import VGG19, VGG16\n",
    "import matplotlib.pyplot as plt\n",
    "import cv2\n",
    "import os"
   ]
  },
  {
   "cell_type": "code",
   "execution_count": 8,
   "metadata": {},
   "outputs": [
    {
     "data": {
      "text/plain": [
       "25088"
      ]
     },
     "execution_count": 8,
     "metadata": {},
     "output_type": "execute_result"
    }
   ],
   "source": [
    "len(vgg16_feature_vectors['20389349.jpg'])"
   ]
  },
  {
   "cell_type": "code",
   "execution_count": 7,
   "metadata": {},
   "outputs": [
    {
     "data": {
      "text/plain": [
       "25088"
      ]
     },
     "execution_count": 7,
     "metadata": {},
     "output_type": "execute_result"
    }
   ],
   "source": [
    "len(given_feature_vector)\n"
   ]
  },
  {
   "cell_type": "code",
   "execution_count": 12,
   "metadata": {},
   "outputs": [
    {
     "name": "stdout",
     "output_type": "stream",
     "text": [
      "1/1 [==============================] - 1s 1s/step\n",
      "[('19063372.jpg', 0.40018386), ('6924250.jpg', 0.36998528), ('14863574.jpg', 0.36827946), ('18985888.jpg', 0.36503738), ('20171471.jpg', 0.3529551)]\n"
     ]
    }
   ],
   "source": [
    "# Load the pickle file\n",
    "with open('/Users/adrianabrazon/Documents/IronHack/final_project/prediction_models/model_feature_vectors.pickle', 'rb') as handle:\n",
    "    model_feature_vectors = pickle.load(handle)\n",
    "\n",
    "given_model = VGG16(\n",
    "    input_shape=(224, 224, 3),\n",
    "    include_top=False,\n",
    "    weights='imagenet',\n",
    ")\n",
    "\n",
    "\n",
    "# Extract the feature vectors for VGG16\n",
    "vgg16_feature_vectors = model_feature_vectors['VGG16']\n",
    "\n",
    "def extract_feature_vector(image_path, model):\n",
    "    # Load the image\n",
    "    image = load_img(image_path, target_size=(224, 224))\n",
    "    # Convert image to array\n",
    "    image_array = img_to_array(image)\n",
    "    # Preprocess the image\n",
    "    image_array = vgg16_preprocess_input(image_array)\n",
    "    # Expand dimensions to create a batch of size 1\n",
    "    image_array = np.expand_dims(image_array, axis=0)\n",
    "    # Extract feature vector using the model\n",
    "    feature_vector = model.predict(image_array)\n",
    "    # Flatten the feature vector\n",
    "    feature_vector = feature_vector.flatten()\n",
    "    return feature_vector\n",
    "\n",
    "# Load the feature vector of a given image\n",
    "given_image_path = '/Users/adrianabrazon/Documents/IronHack/final_project/given_images/2.jpeg'\n",
    "given_feature_vector = extract_feature_vector(given_image_path, given_model)\n",
    "\n",
    "# Ensure the given feature vector has the same dimensionality as stored feature vectors\n",
    "# given_feature_vector = given_feature_vector[:vgg16_feature_vectors.shape[1]]\n",
    "vgg16_feature_vector_length = len(next(iter(vgg16_feature_vectors.values())))\n",
    "given_feature_vector = given_feature_vector[:vgg16_feature_vector_length]\n",
    "\n",
    "# Calculate similarities with VGG16 feature vectors\n",
    "similarities = {}\n",
    "for filename, feature_vector in vgg16_feature_vectors.items():\n",
    "    similarity_score = cosine_similarity([given_feature_vector], [feature_vector])[0][0]\n",
    "    similarities[filename] = similarity_score\n",
    "\n",
    "# Sort the similarities and get the top 5 similar images\n",
    "top_5_similar_images = sorted(similarities.items(), key=lambda x: x[1], reverse=True)[:5]\n",
    "\n",
    "# Print or use the top 5 similar images as needed\n",
    "print(top_5_similar_images)"
   ]
  },
  {
   "cell_type": "code",
   "execution_count": 14,
   "metadata": {},
   "outputs": [
    {
     "name": "stderr",
     "output_type": "stream",
     "text": [
      "[ WARN:0@135.548] global loadsave.cpp:248 findDecoder imread_('/Users/adrianabrazon/Documents/IronHack/final_project/given_images/2.jpeg/19063372.jpg'): can't open/read file: check file path/integrity\n"
     ]
    },
    {
     "ename": "error",
     "evalue": "OpenCV(4.9.0) /private/var/folders/84/gcp9xbms2mj2xtqtdk7w5ckr0000gn/T/pip-install-gx0tynjr/opencv-python_8607548edbbc41f69ba6a3c166659316/opencv/modules/imgproc/src/color.cpp:196: error: (-215:Assertion failed) !_src.empty() in function 'cvtColor'\n",
     "output_type": "error",
     "traceback": [
      "\u001b[0;31m---------------------------------------------------------------------------\u001b[0m",
      "\u001b[0;31merror\u001b[0m                                     Traceback (most recent call last)",
      "Cell \u001b[0;32mIn[14], line 5\u001b[0m\n\u001b[1;32m      3\u001b[0m image_path \u001b[38;5;241m=\u001b[39m os\u001b[38;5;241m.\u001b[39mpath\u001b[38;5;241m.\u001b[39mjoin(given_image_path, filename)\n\u001b[1;32m      4\u001b[0m image \u001b[38;5;241m=\u001b[39m cv2\u001b[38;5;241m.\u001b[39mimread(image_path)\n\u001b[0;32m----> 5\u001b[0m image \u001b[38;5;241m=\u001b[39m \u001b[43mcv2\u001b[49m\u001b[38;5;241;43m.\u001b[39;49m\u001b[43mcvtColor\u001b[49m\u001b[43m(\u001b[49m\u001b[43mimage\u001b[49m\u001b[43m,\u001b[49m\u001b[43m \u001b[49m\u001b[43mcv2\u001b[49m\u001b[38;5;241;43m.\u001b[39;49m\u001b[43mCOLOR_BGR2RGB\u001b[49m\u001b[43m)\u001b[49m\n\u001b[1;32m      6\u001b[0m plt\u001b[38;5;241m.\u001b[39msubplot(\u001b[38;5;241m2\u001b[39m, \u001b[38;5;241m5\u001b[39m, i \u001b[38;5;241m+\u001b[39m \u001b[38;5;241m1\u001b[39m)\n\u001b[1;32m      7\u001b[0m plt\u001b[38;5;241m.\u001b[39mimshow(image)\n",
      "\u001b[0;31merror\u001b[0m: OpenCV(4.9.0) /private/var/folders/84/gcp9xbms2mj2xtqtdk7w5ckr0000gn/T/pip-install-gx0tynjr/opencv-python_8607548edbbc41f69ba6a3c166659316/opencv/modules/imgproc/src/color.cpp:196: error: (-215:Assertion failed) !_src.empty() in function 'cvtColor'\n"
     ]
    },
    {
     "data": {
      "text/plain": [
       "<Figure size 1500x1000 with 0 Axes>"
      ]
     },
     "metadata": {},
     "output_type": "display_data"
    }
   ],
   "source": [
    "plt.figure(figsize=(15, 10))\n",
    "for i, (filename, similarity_score) in enumerate(top_5_similar_images):\n",
    "    image_path = os.path.join(given_image_path, filename)\n",
    "    image = cv2.imread(image_path)\n",
    "    image = cv2.cvtColor(image, cv2.COLOR_BGR2RGB)\n",
    "    plt.subplot(2, 5, i + 1)\n",
    "    plt.imshow(image)\n",
    "    plt.title(f\"Similarity: {similarity_score:.4f}\")\n",
    "    plt.axis('off')\n",
    "plt.tight_layout()\n",
    "plt.show()"
   ]
  },
  {
   "cell_type": "code",
   "execution_count": null,
   "metadata": {},
   "outputs": [],
   "source": []
  }
 ],
 "metadata": {
  "kernelspec": {
   "display_name": ".venv",
   "language": "python",
   "name": "python3"
  },
  "language_info": {
   "codemirror_mode": {
    "name": "ipython",
    "version": 3
   },
   "file_extension": ".py",
   "mimetype": "text/x-python",
   "name": "python",
   "nbconvert_exporter": "python",
   "pygments_lexer": "ipython3",
   "version": "3.8.2"
  }
 },
 "nbformat": 4,
 "nbformat_minor": 2
}
